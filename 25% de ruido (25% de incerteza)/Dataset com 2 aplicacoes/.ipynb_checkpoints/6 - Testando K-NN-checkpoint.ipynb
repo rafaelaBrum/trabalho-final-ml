{
 "cells": [
  {
   "cell_type": "code",
   "execution_count": null,
   "metadata": {},
   "outputs": [],
   "source": [
    "#importando pacotes úteis\n",
    "import pandas as pd\n",
    "import numpy as np\n",
    "from sklearn.model_selection import LeaveOneOut\n",
    "from sklearn import neighbors"
   ]
  },
  {
   "cell_type": "code",
   "execution_count": null,
   "metadata": {},
   "outputs": [],
   "source": [
    "dt_2apli_25ruido_nominal = pd.read_csv('2apli_25ruido.csv');\n",
    "dt_2apli_25ruido_nominal"
   ]
  },
  {
   "cell_type": "code",
   "execution_count": null,
   "metadata": {},
   "outputs": [],
   "source": [
    "dt_2apli_25ruido_nominal['Nivel de interferencia'].value_counts()"
   ]
  },
  {
   "cell_type": "code",
   "execution_count": null,
   "metadata": {},
   "outputs": [],
   "source": [
    "erro_majoritario = dt_2apli_25ruido_nominal['Nivel de interferencia'].value_counts().max()/dt_2apli_25ruido_nominal['Nivel de interferencia'].count()\n",
    "print(\"erro_majoritario = \", erro_majoritario) "
   ]
  },
  {
   "cell_type": "code",
   "execution_count": null,
   "metadata": {},
   "outputs": [],
   "source": [
    "dict_cat = {\n",
    "    'Muito baixo':0,\n",
    "    'Baixo':1,\n",
    "    'Medio':2,\n",
    "    'Alto':3,\n",
    "    'Muito alto': 4\n",
    "}"
   ]
  },
  {
   "cell_type": "code",
   "execution_count": null,
   "metadata": {},
   "outputs": [],
   "source": [
    "#O K-NN só funciona com valores numéricos\n",
    "dt_2apli_25ruido = pd.DataFrame(columns=['App1 - SLLC', 'App1 - DRAM', 'App1 - NET', 'App2 - SLLC', 'App2 - DRAM', 'App2 - NET'])\n",
    "dt_2apli_25ruido['App1 - SLLC'] = dt_2apli_25ruido_nominal['App1 - SLLC'].map(dict_cat)\n",
    "dt_2apli_25ruido['App1 - DRAM'] = dt_2apli_25ruido_nominal['App1 - DRAM'].map(dict_cat)\n",
    "dt_2apli_25ruido['App1 - NET'] = dt_2apli_25ruido_nominal['App1 - NET'].map(dict_cat)\n",
    "dt_2apli_25ruido['App2 - SLLC'] = dt_2apli_25ruido_nominal['App2 - SLLC'].map(dict_cat)\n",
    "dt_2apli_25ruido['App2 - DRAM'] = dt_2apli_25ruido_nominal['App2 - DRAM'].map(dict_cat)\n",
    "dt_2apli_25ruido['App2 - NET'] = dt_2apli_25ruido_nominal['App2 - NET'].map(dict_cat)\n",
    "dt_category = dt_2apli_25ruido_nominal['Nivel de interferencia'].map(dict_cat)\n",
    "dt_target = np.array(dt_category)\n",
    "dt_data = np.array(dt_2apli)\n",
    "print('dt_target = ', dt_target)\n",
    "print('dt_data = ', dt_data)"
   ]
  },
  {
   "cell_type": "code",
   "execution_count": null,
   "metadata": {
    "scrolled": true
   },
   "outputs": [],
   "source": [
    "loo = LeaveOneOut()\n",
    "loo.get_n_splits(dt_data)\n",
    "count_rights = [0] * 10\n",
    "count_wrongs = [0] * 10\n",
    "for train_index, test_index in loo.split(dt_data):\n",
    "    #print(\"Test_index = \", test_index)\n",
    "    dt_data_train = dt_data[train_index]\n",
    "    dt_target_train = dt_target[train_index]\n",
    "    dt_data_test = dt_data[test_index]\n",
    "    dt_target_test = dt_target[test_index]\n",
    "    for n_neighbors in range(1, 10, 1):\n",
    "        clf = neighbors.KNeighborsClassifier(n_neighbors, weights='uniform')\n",
    "        clf.fit(dt_data_train, dt_target_train)\n",
    "        \n",
    "        dt_z_test = clf.predict(dt_data_test)\n",
    "        \n",
    "        #print(\"n_neighbors = \", n_neighbors)\n",
    "        if(dt_z_test == dt_target_test):\n",
    "            #print(\"acertou\")\n",
    "            count_rights[n_neighbors] = count_rights[n_neighbors] + 1\n",
    "        else:\n",
    "            #print(\"errou\")\n",
    "            count_wrongs[n_neighbors] = count_wrongs[n_neighbors] + 1"
   ]
  },
  {
   "cell_type": "code",
   "execution_count": null,
   "metadata": {},
   "outputs": [],
   "source": [
    "print(\"Acertos = \", count_rights)\n",
    "print(\"Erros = \", count_wrongs)"
   ]
  },
  {
   "cell_type": "code",
   "execution_count": null,
   "metadata": {},
   "outputs": [],
   "source": [
    "n_elements = [0]\n",
    "precision = [0]\n",
    "for i in range(1, 10, 1):\n",
    "    n_elements.append(count_rights[i] + count_wrongs[i])\n",
    "    precision.append(count_rights[i]/n_elements[i])\n",
    "print(\"n_elements = \", n_elements[1:])\n",
    "print(\"precision = \", precision[1:])\n",
    "#precision = np.true_divide(count_rights,215)\n",
    "#precision"
   ]
  }
 ],
 "metadata": {
  "kernelspec": {
   "display_name": "Python 3",
   "language": "python",
   "name": "python3"
  },
  "language_info": {
   "codemirror_mode": {
    "name": "ipython",
    "version": 3
   },
   "file_extension": ".py",
   "mimetype": "text/x-python",
   "name": "python",
   "nbconvert_exporter": "python",
   "pygments_lexer": "ipython3",
   "version": "3.7.7"
  }
 },
 "nbformat": 4,
 "nbformat_minor": 4
}
