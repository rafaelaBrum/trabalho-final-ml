{
 "cells": [
  {
   "cell_type": "code",
   "execution_count": 1,
   "metadata": {},
   "outputs": [],
   "source": [
    "#importando pacotes úteis\n",
    "import pandas as pd\n",
    "import numpy as np\n",
    "from sklearn.model_selection import LeaveOneOut\n",
    "from sklearn import neighbors"
   ]
  },
  {
   "cell_type": "code",
   "execution_count": 2,
   "metadata": {},
   "outputs": [
    {
     "data": {
      "text/html": [
       "<div>\n",
       "<style scoped>\n",
       "    .dataframe tbody tr th:only-of-type {\n",
       "        vertical-align: middle;\n",
       "    }\n",
       "\n",
       "    .dataframe tbody tr th {\n",
       "        vertical-align: top;\n",
       "    }\n",
       "\n",
       "    .dataframe thead th {\n",
       "        text-align: right;\n",
       "    }\n",
       "</style>\n",
       "<table border=\"1\" class=\"dataframe\">\n",
       "  <thead>\n",
       "    <tr style=\"text-align: right;\">\n",
       "      <th></th>\n",
       "      <th>App1 - SLLC</th>\n",
       "      <th>App1 - DRAM</th>\n",
       "      <th>App1 - NET</th>\n",
       "      <th>App2 - SLLC</th>\n",
       "      <th>App2 - DRAM</th>\n",
       "      <th>App2 - NET</th>\n",
       "      <th>Nivel de interferencia</th>\n",
       "    </tr>\n",
       "  </thead>\n",
       "  <tbody>\n",
       "    <tr>\n",
       "      <th>0</th>\n",
       "      <td>Muito alto</td>\n",
       "      <td>Muito baixo</td>\n",
       "      <td>Muito baixo</td>\n",
       "      <td>Muito alto</td>\n",
       "      <td>Muito baixo</td>\n",
       "      <td>Muito baixo</td>\n",
       "      <td>Alto</td>\n",
       "    </tr>\n",
       "    <tr>\n",
       "      <th>1</th>\n",
       "      <td>Muito alto</td>\n",
       "      <td>Muito baixo</td>\n",
       "      <td>Muito baixo</td>\n",
       "      <td>Medio</td>\n",
       "      <td>Muito baixo</td>\n",
       "      <td>Muito baixo</td>\n",
       "      <td>Baixo</td>\n",
       "    </tr>\n",
       "    <tr>\n",
       "      <th>2</th>\n",
       "      <td>Muito alto</td>\n",
       "      <td>Muito baixo</td>\n",
       "      <td>Muito baixo</td>\n",
       "      <td>Muito baixo</td>\n",
       "      <td>Muito baixo</td>\n",
       "      <td>Muito baixo</td>\n",
       "      <td>Muito baixo</td>\n",
       "    </tr>\n",
       "    <tr>\n",
       "      <th>3</th>\n",
       "      <td>Muito alto</td>\n",
       "      <td>Muito baixo</td>\n",
       "      <td>Muito baixo</td>\n",
       "      <td>Baixo</td>\n",
       "      <td>Muito alto</td>\n",
       "      <td>Muito baixo</td>\n",
       "      <td>Baixo</td>\n",
       "    </tr>\n",
       "    <tr>\n",
       "      <th>4</th>\n",
       "      <td>Muito alto</td>\n",
       "      <td>Muito baixo</td>\n",
       "      <td>Muito baixo</td>\n",
       "      <td>Muito baixo</td>\n",
       "      <td>Medio</td>\n",
       "      <td>Muito baixo</td>\n",
       "      <td>Muito baixo</td>\n",
       "    </tr>\n",
       "    <tr>\n",
       "      <th>...</th>\n",
       "      <td>...</td>\n",
       "      <td>...</td>\n",
       "      <td>...</td>\n",
       "      <td>...</td>\n",
       "      <td>...</td>\n",
       "      <td>...</td>\n",
       "      <td>...</td>\n",
       "    </tr>\n",
       "    <tr>\n",
       "      <th>221</th>\n",
       "      <td>Muito baixo</td>\n",
       "      <td>Muito baixo</td>\n",
       "      <td>Muito baixo</td>\n",
       "      <td>Muito baixo</td>\n",
       "      <td>Muito baixo</td>\n",
       "      <td>Muito baixo</td>\n",
       "      <td>Muito baixo</td>\n",
       "    </tr>\n",
       "    <tr>\n",
       "      <th>222</th>\n",
       "      <td>Muito baixo</td>\n",
       "      <td>Muito baixo</td>\n",
       "      <td>Muito baixo</td>\n",
       "      <td>Muito baixo</td>\n",
       "      <td>Muito baixo</td>\n",
       "      <td>Muito baixo</td>\n",
       "      <td>Muito baixo</td>\n",
       "    </tr>\n",
       "    <tr>\n",
       "      <th>223</th>\n",
       "      <td>Muito baixo</td>\n",
       "      <td>Muito baixo</td>\n",
       "      <td>Muito baixo</td>\n",
       "      <td>Muito baixo</td>\n",
       "      <td>Muito baixo</td>\n",
       "      <td>Medio</td>\n",
       "      <td>Muito baixo</td>\n",
       "    </tr>\n",
       "    <tr>\n",
       "      <th>224</th>\n",
       "      <td>Muito baixo</td>\n",
       "      <td>Muito baixo</td>\n",
       "      <td>Muito baixo</td>\n",
       "      <td>Muito baixo</td>\n",
       "      <td>Muito baixo</td>\n",
       "      <td>Medio</td>\n",
       "      <td>Muito baixo</td>\n",
       "    </tr>\n",
       "    <tr>\n",
       "      <th>225</th>\n",
       "      <td>Muito baixo</td>\n",
       "      <td>Muito baixo</td>\n",
       "      <td>Muito baixo</td>\n",
       "      <td>Muito baixo</td>\n",
       "      <td>Muito baixo</td>\n",
       "      <td>Muito baixo</td>\n",
       "      <td>Muito baixo</td>\n",
       "    </tr>\n",
       "  </tbody>\n",
       "</table>\n",
       "<p>226 rows × 7 columns</p>\n",
       "</div>"
      ],
      "text/plain": [
       "     App1 - SLLC  App1 - DRAM   App1 - NET  App2 - SLLC  App2 - DRAM  \\\n",
       "0     Muito alto  Muito baixo  Muito baixo   Muito alto  Muito baixo   \n",
       "1     Muito alto  Muito baixo  Muito baixo        Medio  Muito baixo   \n",
       "2     Muito alto  Muito baixo  Muito baixo  Muito baixo  Muito baixo   \n",
       "3     Muito alto  Muito baixo  Muito baixo        Baixo   Muito alto   \n",
       "4     Muito alto  Muito baixo  Muito baixo  Muito baixo        Medio   \n",
       "..           ...          ...          ...          ...          ...   \n",
       "221  Muito baixo  Muito baixo  Muito baixo  Muito baixo  Muito baixo   \n",
       "222  Muito baixo  Muito baixo  Muito baixo  Muito baixo  Muito baixo   \n",
       "223  Muito baixo  Muito baixo  Muito baixo  Muito baixo  Muito baixo   \n",
       "224  Muito baixo  Muito baixo  Muito baixo  Muito baixo  Muito baixo   \n",
       "225  Muito baixo  Muito baixo  Muito baixo  Muito baixo  Muito baixo   \n",
       "\n",
       "      App2 - NET Nivel de interferencia  \n",
       "0    Muito baixo                   Alto  \n",
       "1    Muito baixo                  Baixo  \n",
       "2    Muito baixo            Muito baixo  \n",
       "3    Muito baixo                  Baixo  \n",
       "4    Muito baixo            Muito baixo  \n",
       "..           ...                    ...  \n",
       "221  Muito baixo            Muito baixo  \n",
       "222  Muito baixo            Muito baixo  \n",
       "223        Medio            Muito baixo  \n",
       "224        Medio            Muito baixo  \n",
       "225  Muito baixo            Muito baixo  \n",
       "\n",
       "[226 rows x 7 columns]"
      ]
     },
     "execution_count": 2,
     "metadata": {},
     "output_type": "execute_result"
    }
   ],
   "source": [
    "dt_2apli_ruido_nominal = pd.read_csv('2apli_25ruido_25incerteza.csv');\n",
    "dt_2apli_ruido_nominal"
   ]
  },
  {
   "cell_type": "code",
   "execution_count": 3,
   "metadata": {},
   "outputs": [
    {
     "data": {
      "text/plain": [
       "Muito baixo    120\n",
       "Baixo           68\n",
       "Medio           28\n",
       "Alto             6\n",
       "Muito alto       4\n",
       "Name: Nivel de interferencia, dtype: int64"
      ]
     },
     "execution_count": 3,
     "metadata": {},
     "output_type": "execute_result"
    }
   ],
   "source": [
    "dt_2apli_ruido_nominal['Nivel de interferencia'].value_counts()"
   ]
  },
  {
   "cell_type": "code",
   "execution_count": 4,
   "metadata": {},
   "outputs": [
    {
     "name": "stdout",
     "output_type": "stream",
     "text": [
      "erro_majoritario =  0.5309734513274337\n"
     ]
    }
   ],
   "source": [
    "erro_majoritario = dt_2apli_ruido_nominal['Nivel de interferencia'].value_counts().max()/dt_2apli_ruido_nominal['Nivel de interferencia'].count()\n",
    "print(\"erro_majoritario = \", erro_majoritario) "
   ]
  },
  {
   "cell_type": "code",
   "execution_count": 5,
   "metadata": {},
   "outputs": [],
   "source": [
    "dict_cat = {\n",
    "    'Muito baixo':0,\n",
    "    'Baixo':1,\n",
    "    'Medio':2,\n",
    "    'Alto':3,\n",
    "    'Muito alto': 4\n",
    "}"
   ]
  },
  {
   "cell_type": "code",
   "execution_count": 6,
   "metadata": {},
   "outputs": [
    {
     "name": "stdout",
     "output_type": "stream",
     "text": [
      "dt_target =  [3 1 0 1 0 2 4 2 1 1 0 0 0 1 2 1 0 0 0 0 0 0 0 0 1 0 1 1 1 1 0 0 0 0 0 3 2\n",
      " 1 1 4 2 1 2 1 1 2 1 0 1 0 2 2 1 1 2 1 2 1 0 0 1 0 1 1 0 0 0 1 2 1 0 1 1 3\n",
      " 2 1 1 3 4 1 0 1 0 2 4 2 1 2 1 2 3 2 0 2 0 2 1 1 0 0 0 1 2 2 0 1 0 1 1 0 0\n",
      " 0 1 0 0 0 0 0 0 1 1 1 1 0 1 0 0 0 0 1 0 0 1 0 1 2 1 1 1 1 1 1 0 1 0 0 0 0\n",
      " 0 1 1 0 0 1 0 1 0 1 2 1 0 1 0 2 2 1 1 2 1 3 2 1 0 0 0 0 0 0 0 0 0 0 0 0 0\n",
      " 0 0 0 0 0 0 0 0 0 0 0 0 0 0 0 0 0 0 0 0 0 0 0 0 0 0 0 0 0 0 0 0 0 0 0 0 0\n",
      " 0 0 0 0]\n",
      "dt_data =  [[4 0 0 4 0 0]\n",
      " [4 0 0 2 0 0]\n",
      " [4 0 0 0 0 0]\n",
      " ...\n",
      " [0 0 0 0 0 2]\n",
      " [0 0 0 0 0 2]\n",
      " [0 0 0 0 0 0]]\n"
     ]
    }
   ],
   "source": [
    "#O K-NN só funciona com valores numéricos\n",
    "dt_2apli_ruido = pd.DataFrame(columns=['App1 - SLLC', 'App1 - DRAM', 'App1 - NET', 'App2 - SLLC', 'App2 - DRAM', 'App2 - NET'])\n",
    "dt_2apli_ruido['App1 - SLLC'] = dt_2apli_ruido_nominal['App1 - SLLC'].map(dict_cat)\n",
    "dt_2apli_ruido['App1 - DRAM'] = dt_2apli_ruido_nominal['App1 - DRAM'].map(dict_cat)\n",
    "dt_2apli_ruido['App1 - NET'] = dt_2apli_ruido_nominal['App1 - NET'].map(dict_cat)\n",
    "dt_2apli_ruido['App2 - SLLC'] = dt_2apli_ruido_nominal['App2 - SLLC'].map(dict_cat)\n",
    "dt_2apli_ruido['App2 - DRAM'] = dt_2apli_ruido_nominal['App2 - DRAM'].map(dict_cat)\n",
    "dt_2apli_ruido['App2 - NET'] = dt_2apli_ruido_nominal['App2 - NET'].map(dict_cat)\n",
    "dt_category = dt_2apli_ruido_nominal['Nivel de interferencia'].map(dict_cat)\n",
    "dt_target = np.array(dt_category)\n",
    "dt_data = np.array(dt_2apli_ruido)\n",
    "print('dt_target = ', dt_target)\n",
    "print('dt_data = ', dt_data)"
   ]
  },
  {
   "cell_type": "code",
   "execution_count": 7,
   "metadata": {
    "scrolled": true
   },
   "outputs": [],
   "source": [
    "loo = LeaveOneOut()\n",
    "loo.get_n_splits(dt_data)\n",
    "count_rights = [0] * 10\n",
    "count_wrongs = [0] * 10\n",
    "for train_index, test_index in loo.split(dt_data):\n",
    "    #print(\"Test_index = \", test_index)\n",
    "    dt_data_train = dt_data[train_index]\n",
    "    dt_target_train = dt_target[train_index]\n",
    "    dt_data_test = dt_data[test_index]\n",
    "    dt_target_test = dt_target[test_index]\n",
    "    for n_neighbors in range(1, 10, 1):\n",
    "        clf = neighbors.KNeighborsClassifier(n_neighbors, weights='uniform')\n",
    "        clf.fit(dt_data_train, dt_target_train)\n",
    "        \n",
    "        dt_z_test = clf.predict(dt_data_test)\n",
    "        \n",
    "        #print(\"n_neighbors = \", n_neighbors)\n",
    "        if(dt_z_test == dt_target_test):\n",
    "            #print(\"acertou\")\n",
    "            count_rights[n_neighbors] = count_rights[n_neighbors] + 1\n",
    "        else:\n",
    "            #print(\"errou\")\n",
    "            count_wrongs[n_neighbors] = count_wrongs[n_neighbors] + 1"
   ]
  },
  {
   "cell_type": "code",
   "execution_count": 8,
   "metadata": {},
   "outputs": [
    {
     "name": "stdout",
     "output_type": "stream",
     "text": [
      "Acertos =  [0, 144, 148, 145, 150, 152, 153, 146, 153, 146]\n",
      "Erros =  [0, 82, 78, 81, 76, 74, 73, 80, 73, 80]\n"
     ]
    }
   ],
   "source": [
    "print(\"Acertos = \", count_rights)\n",
    "print(\"Erros = \", count_wrongs)"
   ]
  },
  {
   "cell_type": "code",
   "execution_count": 9,
   "metadata": {},
   "outputs": [
    {
     "name": "stdout",
     "output_type": "stream",
     "text": [
      "n_elements =  [226, 226, 226, 226, 226, 226, 226, 226, 226]\n",
      "precision =  [0.6371681415929203, 0.6548672566371682, 0.6415929203539823, 0.6637168141592921, 0.672566371681416, 0.6769911504424779, 0.6460176991150443, 0.6769911504424779, 0.6460176991150443]\n"
     ]
    }
   ],
   "source": [
    "n_elements = [0]\n",
    "precision = [0]\n",
    "for i in range(1, 10, 1):\n",
    "    n_elements.append(count_rights[i] + count_wrongs[i])\n",
    "    precision.append(count_rights[i]/n_elements[i])\n",
    "print(\"n_elements = \", n_elements[1:])\n",
    "print(\"precision = \", precision[1:])\n",
    "#precision = np.true_divide(count_rights,215)\n",
    "#precision"
   ]
  }
 ],
 "metadata": {
  "kernelspec": {
   "display_name": "Python 3",
   "language": "python",
   "name": "python3"
  },
  "language_info": {
   "codemirror_mode": {
    "name": "ipython",
    "version": 3
   },
   "file_extension": ".py",
   "mimetype": "text/x-python",
   "name": "python",
   "nbconvert_exporter": "python",
   "pygments_lexer": "ipython3",
   "version": "3.7.7"
  }
 },
 "nbformat": 4,
 "nbformat_minor": 4
}
