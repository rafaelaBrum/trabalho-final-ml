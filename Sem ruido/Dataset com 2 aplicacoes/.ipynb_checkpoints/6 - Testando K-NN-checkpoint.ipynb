{
 "cells": [
  {
   "cell_type": "code",
   "execution_count": 1,
   "metadata": {},
   "outputs": [],
   "source": [
    "#importando pacotes úteis\n",
    "import pandas as pd\n",
    "import numpy as np\n",
    "from sklearn.model_selection import LeaveOneOut\n",
    "from sklearn import neighbors, metrics"
   ]
  },
  {
   "cell_type": "code",
   "execution_count": 3,
   "metadata": {},
   "outputs": [],
   "source": [
    "dt_2apli = pd.read_csv('dt_2apli.csv');\n",
    "dt_2apli"
   ]
  },
  {
   "cell_type": "code",
   "execution_count": 4,
   "metadata": {},
   "outputs": [
    {
     "data": {
      "text/plain": [
       "Baixo          80\n",
       "Muito baixo    46\n",
       "Medio          40\n",
       "Alto           24\n",
       "Muito alto     14\n",
       "Extremo        11\n",
       "Name: Category, dtype: int64"
      ]
     },
     "execution_count": 4,
     "metadata": {},
     "output_type": "execute_result"
    }
   ],
   "source": [
    "dt_2apli['Nivel de interferencia'].value_counts()"
   ]
  },
  {
   "cell_type": "code",
   "execution_count": 5,
   "metadata": {},
   "outputs": [],
   "source": [
    "dict_cat = {\n",
    "    'Muito baixo':0,\n",
    "    'Baixo':1,\n",
    "    'Medio':2,\n",
    "    'Alto':3,\n",
    "    'Muito alto': 4,\n",
    "    'Muito baixa':0,\n",
    "    'Baixa':1,\n",
    "    'Media':2,\n",
    "    'Alta':3,\n",
    "    'Muito alta': 4\n",
    "}\n",
    "dict_target = {\n",
    "    'Muito baixo':0,\n",
    "    'Baixo':1,\n",
    "    'Medio':2,\n",
    "    'Alto':3,\n",
    "    'Muito alto':4,\n",
    "    'Extremo':5\n",
    "}"
   ]
  },
  {
   "cell_type": "code",
   "execution_count": 6,
   "metadata": {},
   "outputs": [],
   "source": [
    "#O K-NN só funciona com valores numéricos\n",
    "dt_agreg = pd.DataFrame(columns=['Score SLLC acumulado', 'Similaridade SLLC', 'Score DRAM acumulado', 'Similaridade DRAM', 'Score NET acumulado', 'Similaridade NET'])\n",
    "dt_agreg['Score SLLC acumulado'] = dt_agreg_nominal['Score SLLC acumulado'].map(dict_cat)\n",
    "dt_agreg[['Similaridade SLLC']] = dt_agreg_nominal['Similaridade SLLC'].map(dict_cat)\n",
    "dt_agreg[['Score DRAM acumulado']] = dt_agreg_nominal['Score DRAM acumulado'].map(dict_cat)\n",
    "dt_agreg[['Similaridade DRAM']] = dt_agreg_nominal['Similaridade DRAM'].map(dict_cat)\n",
    "dt_agreg[['Score NET acumulado']] = dt_agreg_nominal['Score NET acumulado'].map(dict_cat)\n",
    "dt_agreg[['Similaridade NET']] = dt_agreg_nominal['Similaridade NET'].map(dict_cat)\n",
    "dt_category = dt_agreg_nominal['Category'].map(dict_target)\n",
    "dt_target = np.array(dt_category)\n",
    "dt_data = np.array(dt_agreg)\n",
    "#print('dt_target = ', dt_target)\n",
    "#print('dt_data = ', dt_data)"
   ]
  },
  {
   "cell_type": "code",
   "execution_count": 1,
   "metadata": {},
   "outputs": [
    {
     "ename": "NameError",
     "evalue": "name 'dt_data' is not defined",
     "output_type": "error",
     "traceback": [
      "\u001b[1;31m---------------------------------------------------------------------------\u001b[0m",
      "\u001b[1;31mNameError\u001b[0m                                 Traceback (most recent call last)",
      "\u001b[1;32m<ipython-input-1-8ceff6236194>\u001b[0m in \u001b[0;36m<module>\u001b[1;34m\u001b[0m\n\u001b[1;32m----> 1\u001b[1;33m \u001b[1;32mfor\u001b[0m \u001b[0mindex\u001b[0m\u001b[1;33m,\u001b[0m \u001b[0mrow\u001b[0m \u001b[1;32min\u001b[0m \u001b[0mdt_data\u001b[0m\u001b[1;33m.\u001b[0m\u001b[0mhead\u001b[0m\u001b[1;33m(\u001b[0m\u001b[1;33m)\u001b[0m\u001b[1;33m.\u001b[0m\u001b[0miterrows\u001b[0m\u001b[1;33m(\u001b[0m\u001b[1;33m)\u001b[0m\u001b[1;33m:\u001b[0m\u001b[1;33m\u001b[0m\u001b[1;33m\u001b[0m\u001b[0m\n\u001b[0m\u001b[0;32m      2\u001b[0m     \u001b[0mprint\u001b[0m\u001b[1;33m(\u001b[0m\u001b[0mdf\u001b[0m\u001b[1;33m.\u001b[0m\u001b[0mhead\u001b[0m\u001b[1;33m(\u001b[0m\u001b[1;33m)\u001b[0m\u001b[1;33m[\u001b[0m\u001b[0mdf\u001b[0m\u001b[1;33m.\u001b[0m\u001b[0mhead\u001b[0m\u001b[1;33m(\u001b[0m\u001b[1;33m)\u001b[0m\u001b[1;33m.\u001b[0m\u001b[0mindex\u001b[0m \u001b[1;33m!=\u001b[0m \u001b[0mindex\u001b[0m\u001b[1;33m]\u001b[0m\u001b[1;33m)\u001b[0m\u001b[1;33m\u001b[0m\u001b[1;33m\u001b[0m\u001b[0m\n\u001b[0;32m      3\u001b[0m     \u001b[0mprint\u001b[0m\u001b[1;33m(\u001b[0m\u001b[0mrow\u001b[0m\u001b[1;33m)\u001b[0m\u001b[1;33m\u001b[0m\u001b[1;33m\u001b[0m\u001b[0m\n",
      "\u001b[1;31mNameError\u001b[0m: name 'dt_data' is not defined"
     ]
    }
   ],
   "source": [
    "for index, row in dt_data.head().iterrows():\n",
    "    print(df.head()[df.head().index != index])\n",
    "    print(row)"
   ]
  },
  {
   "cell_type": "code",
   "execution_count": 6,
   "metadata": {
    "scrolled": true
   },
   "outputs": [],
   "source": [
    "loo = LeaveOneOut()\n",
    "loo.get_n_splits(dt_data)\n",
    "count_rights = [0] * 10\n",
    "count_wrongs = [0] * 10\n",
    "for train_index, test_index in loo.split(dt_data):\n",
    "    #print(\"Test_index = \", test_index)\n",
    "    dt_data_train = dt_data[train_index]\n",
    "    dt_target_train = dt_target[train_index]\n",
    "    dt_data_test = dt_data[test_index]\n",
    "    dt_target_test = dt_target[test_index]\n",
    "    for n_neighbors in range(1, 10, 1):\n",
    "        clf = neighbors.KNeighborsClassifier(n_neighbors, weights='uniform')\n",
    "        clf.fit(dt_data_train, dt_target_train)\n",
    "        \n",
    "        dt_z_test = clf.predict(dt_data_test)\n",
    "        \n",
    "        #print(\"n_neighbors = \", n_neighbors)\n",
    "        if(dt_z_test == dt_target_test):\n",
    "            #print(\"acertou\")\n",
    "            count_rights[n_neighbors] = count_rights[n_neighbors] + 1\n",
    "        else:\n",
    "            #print(\"errou\")\n",
    "            count_wrongs[n_neighbors] = count_wrongs[n_neighbors] + 1"
   ]
  },
  {
   "cell_type": "code",
   "execution_count": 7,
   "metadata": {},
   "outputs": [
    {
     "name": "stdout",
     "output_type": "stream",
     "text": [
      "Acertos =  [0, 89, 87, 95, 99, 102, 98, 96, 98, 97]\n",
      "Erros =  [0, 126, 128, 120, 116, 113, 117, 119, 117, 118]\n"
     ]
    }
   ],
   "source": [
    "print(\"Acertos = \", count_rights)\n",
    "print(\"Erros = \", count_wrongs)"
   ]
  },
  {
   "cell_type": "code",
   "execution_count": 8,
   "metadata": {},
   "outputs": [
    {
     "name": "stdout",
     "output_type": "stream",
     "text": [
      "n_elements =  [215, 215, 215, 215, 215, 215, 215, 215, 215]\n",
      "precision =  [0.413953488372093, 0.4046511627906977, 0.4418604651162791, 0.4604651162790698, 0.4744186046511628, 0.4558139534883721, 0.44651162790697674, 0.4558139534883721, 0.4511627906976744]\n"
     ]
    }
   ],
   "source": [
    "n_elements = [0]\n",
    "precision = [0]\n",
    "for i in range(1, 10, 1):\n",
    "    n_elements.append(count_rights[i] + count_wrongs[i])\n",
    "    precision.append(count_rights[i]/n_elements[i])\n",
    "print(\"n_elements = \", n_elements[1:])\n",
    "print(\"precision = \", precision[1:])\n",
    "#precision = np.true_divide(count_rights,215)\n",
    "#precision"
   ]
  }
 ],
 "metadata": {
  "kernelspec": {
   "display_name": "Python 3",
   "language": "python",
   "name": "python3"
  },
  "language_info": {
   "codemirror_mode": {
    "name": "ipython",
    "version": 3
   },
   "file_extension": ".py",
   "mimetype": "text/x-python",
   "name": "python",
   "nbconvert_exporter": "python",
   "pygments_lexer": "ipython3",
   "version": "3.7.7"
  }
 },
 "nbformat": 4,
 "nbformat_minor": 4
}
