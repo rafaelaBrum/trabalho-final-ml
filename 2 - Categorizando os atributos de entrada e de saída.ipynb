{
 "cells": [
  {
   "cell_type": "code",
   "execution_count": 1,
   "metadata": {},
   "outputs": [],
   "source": [
    "#importando pacotes úteis\n",
    "import pandas as pd\n",
    "import numpy as np\n",
    "import matplotlib.pyplot as plt"
   ]
  },
  {
   "cell_type": "code",
   "execution_count": 2,
   "metadata": {},
   "outputs": [],
   "source": [
    "dt_2apli = pd.read_excel('Dataset.xlsx', sheet_name='Dataset AM 2 aplicações')\n",
    "dt_3apli = pd.read_excel('Dataset.xlsx', sheet_name='Dataset AM 3 aplicações')"
   ]
  },
  {
   "cell_type": "code",
   "execution_count": 3,
   "metadata": {},
   "outputs": [
    {
     "data": {
      "text/html": [
       "<div>\n",
       "<style scoped>\n",
       "    .dataframe tbody tr th:only-of-type {\n",
       "        vertical-align: middle;\n",
       "    }\n",
       "\n",
       "    .dataframe tbody tr th {\n",
       "        vertical-align: top;\n",
       "    }\n",
       "\n",
       "    .dataframe thead th {\n",
       "        text-align: right;\n",
       "    }\n",
       "</style>\n",
       "<table border=\"1\" class=\"dataframe\">\n",
       "  <thead>\n",
       "    <tr style=\"text-align: right;\">\n",
       "      <th></th>\n",
       "      <th>Id</th>\n",
       "      <th>Aplicação 1 - SLLC</th>\n",
       "      <th>Aplicação 1 - DRAM</th>\n",
       "      <th>Aplicação 1 - NET</th>\n",
       "      <th>Aplicação 2 - SLLC</th>\n",
       "      <th>Aplicação 2 - DRAM</th>\n",
       "      <th>Aplicação 2 - NET</th>\n",
       "      <th>SlowDown</th>\n",
       "    </tr>\n",
       "  </thead>\n",
       "  <tbody>\n",
       "    <tr>\n",
       "      <th>0</th>\n",
       "      <td>1</td>\n",
       "      <td>1.000000</td>\n",
       "      <td>0.000000</td>\n",
       "      <td>0.100000</td>\n",
       "      <td>1.000000</td>\n",
       "      <td>0.000000</td>\n",
       "      <td>0.100000</td>\n",
       "      <td>1.423619</td>\n",
       "    </tr>\n",
       "    <tr>\n",
       "      <th>1</th>\n",
       "      <td>2</td>\n",
       "      <td>1.000000</td>\n",
       "      <td>0.000000</td>\n",
       "      <td>0.100000</td>\n",
       "      <td>0.500000</td>\n",
       "      <td>0.100000</td>\n",
       "      <td>0.100000</td>\n",
       "      <td>0.777113</td>\n",
       "    </tr>\n",
       "    <tr>\n",
       "      <th>2</th>\n",
       "      <td>3</td>\n",
       "      <td>1.000000</td>\n",
       "      <td>0.000000</td>\n",
       "      <td>0.100000</td>\n",
       "      <td>0.100000</td>\n",
       "      <td>0.100000</td>\n",
       "      <td>0.100000</td>\n",
       "      <td>0.340972</td>\n",
       "    </tr>\n",
       "    <tr>\n",
       "      <th>3</th>\n",
       "      <td>4</td>\n",
       "      <td>1.000000</td>\n",
       "      <td>0.000000</td>\n",
       "      <td>0.100000</td>\n",
       "      <td>0.300000</td>\n",
       "      <td>1.000000</td>\n",
       "      <td>0.100000</td>\n",
       "      <td>0.717028</td>\n",
       "    </tr>\n",
       "    <tr>\n",
       "      <th>4</th>\n",
       "      <td>5</td>\n",
       "      <td>1.000000</td>\n",
       "      <td>0.000000</td>\n",
       "      <td>0.100000</td>\n",
       "      <td>0.100000</td>\n",
       "      <td>0.500000</td>\n",
       "      <td>0.100000</td>\n",
       "      <td>0.314561</td>\n",
       "    </tr>\n",
       "    <tr>\n",
       "      <th>...</th>\n",
       "      <td>...</td>\n",
       "      <td>...</td>\n",
       "      <td>...</td>\n",
       "      <td>...</td>\n",
       "      <td>...</td>\n",
       "      <td>...</td>\n",
       "      <td>...</td>\n",
       "      <td>...</td>\n",
       "    </tr>\n",
       "    <tr>\n",
       "      <th>221</th>\n",
       "      <td>222</td>\n",
       "      <td>0.030208</td>\n",
       "      <td>0.000405</td>\n",
       "      <td>0.007904</td>\n",
       "      <td>0.010135</td>\n",
       "      <td>0.023649</td>\n",
       "      <td>0.000000</td>\n",
       "      <td>0.091409</td>\n",
       "    </tr>\n",
       "    <tr>\n",
       "      <th>222</th>\n",
       "      <td>223</td>\n",
       "      <td>0.030208</td>\n",
       "      <td>0.000405</td>\n",
       "      <td>0.007904</td>\n",
       "      <td>0.016550</td>\n",
       "      <td>0.021351</td>\n",
       "      <td>0.000000</td>\n",
       "      <td>0.076593</td>\n",
       "    </tr>\n",
       "    <tr>\n",
       "      <th>223</th>\n",
       "      <td>224</td>\n",
       "      <td>0.030208</td>\n",
       "      <td>0.000405</td>\n",
       "      <td>0.007904</td>\n",
       "      <td>0.068000</td>\n",
       "      <td>0.169369</td>\n",
       "      <td>0.493127</td>\n",
       "      <td>0.100670</td>\n",
       "    </tr>\n",
       "    <tr>\n",
       "      <th>224</th>\n",
       "      <td>225</td>\n",
       "      <td>0.030208</td>\n",
       "      <td>0.000405</td>\n",
       "      <td>0.007904</td>\n",
       "      <td>0.070336</td>\n",
       "      <td>0.164347</td>\n",
       "      <td>0.516838</td>\n",
       "      <td>0.097879</td>\n",
       "    </tr>\n",
       "    <tr>\n",
       "      <th>225</th>\n",
       "      <td>226</td>\n",
       "      <td>0.030208</td>\n",
       "      <td>0.000405</td>\n",
       "      <td>0.007904</td>\n",
       "      <td>0.053058</td>\n",
       "      <td>0.127207</td>\n",
       "      <td>0.003780</td>\n",
       "      <td>0.088420</td>\n",
       "    </tr>\n",
       "  </tbody>\n",
       "</table>\n",
       "<p>226 rows × 8 columns</p>\n",
       "</div>"
      ],
      "text/plain": [
       "      Id  Aplicação 1 - SLLC  Aplicação 1 - DRAM  Aplicação 1 - NET  \\\n",
       "0      1            1.000000            0.000000           0.100000   \n",
       "1      2            1.000000            0.000000           0.100000   \n",
       "2      3            1.000000            0.000000           0.100000   \n",
       "3      4            1.000000            0.000000           0.100000   \n",
       "4      5            1.000000            0.000000           0.100000   \n",
       "..   ...                 ...                 ...                ...   \n",
       "221  222            0.030208            0.000405           0.007904   \n",
       "222  223            0.030208            0.000405           0.007904   \n",
       "223  224            0.030208            0.000405           0.007904   \n",
       "224  225            0.030208            0.000405           0.007904   \n",
       "225  226            0.030208            0.000405           0.007904   \n",
       "\n",
       "     Aplicação 2 - SLLC  Aplicação 2 - DRAM  Aplicação 2 - NET  SlowDown  \n",
       "0              1.000000            0.000000           0.100000  1.423619  \n",
       "1              0.500000            0.100000           0.100000  0.777113  \n",
       "2              0.100000            0.100000           0.100000  0.340972  \n",
       "3              0.300000            1.000000           0.100000  0.717028  \n",
       "4              0.100000            0.500000           0.100000  0.314561  \n",
       "..                  ...                 ...                ...       ...  \n",
       "221            0.010135            0.023649           0.000000  0.091409  \n",
       "222            0.016550            0.021351           0.000000  0.076593  \n",
       "223            0.068000            0.169369           0.493127  0.100670  \n",
       "224            0.070336            0.164347           0.516838  0.097879  \n",
       "225            0.053058            0.127207           0.003780  0.088420  \n",
       "\n",
       "[226 rows x 8 columns]"
      ]
     },
     "execution_count": 3,
     "metadata": {},
     "output_type": "execute_result"
    }
   ],
   "source": [
    "dt_2apli"
   ]
  },
  {
   "cell_type": "code",
   "execution_count": 4,
   "metadata": {},
   "outputs": [
    {
     "data": {
      "text/html": [
       "<div>\n",
       "<style scoped>\n",
       "    .dataframe tbody tr th:only-of-type {\n",
       "        vertical-align: middle;\n",
       "    }\n",
       "\n",
       "    .dataframe tbody tr th {\n",
       "        vertical-align: top;\n",
       "    }\n",
       "\n",
       "    .dataframe thead th {\n",
       "        text-align: right;\n",
       "    }\n",
       "</style>\n",
       "<table border=\"1\" class=\"dataframe\">\n",
       "  <thead>\n",
       "    <tr style=\"text-align: right;\">\n",
       "      <th></th>\n",
       "      <th>Id</th>\n",
       "      <th>Aplicação 1 - SLLC</th>\n",
       "      <th>Aplicação 1 - DRAM</th>\n",
       "      <th>Aplicação 1 - NET</th>\n",
       "      <th>Aplicação 2 - SLLC</th>\n",
       "      <th>Aplicação 2 - DRAM</th>\n",
       "      <th>Aplicação 2 - NET</th>\n",
       "      <th>Aplicação 3 - SLLC</th>\n",
       "      <th>Aplicação 3 - DRAM</th>\n",
       "      <th>Aplicação 3 - NET</th>\n",
       "      <th>SlowDown</th>\n",
       "    </tr>\n",
       "  </thead>\n",
       "  <tbody>\n",
       "    <tr>\n",
       "      <th>1</th>\n",
       "      <td>337</td>\n",
       "      <td>0.015291</td>\n",
       "      <td>0.000045</td>\n",
       "      <td>0.037801</td>\n",
       "      <td>0.015291</td>\n",
       "      <td>0.000045</td>\n",
       "      <td>0.037801</td>\n",
       "      <td>0.024465</td>\n",
       "      <td>0.000428</td>\n",
       "      <td>0.005842</td>\n",
       "      <td>0.008548</td>\n",
       "    </tr>\n",
       "    <tr>\n",
       "      <th>2</th>\n",
       "      <td>208</td>\n",
       "      <td>0.006728</td>\n",
       "      <td>0.015766</td>\n",
       "      <td>0.000000</td>\n",
       "      <td>0.015291</td>\n",
       "      <td>0.000045</td>\n",
       "      <td>0.037801</td>\n",
       "      <td>0.015291</td>\n",
       "      <td>0.000045</td>\n",
       "      <td>0.037801</td>\n",
       "      <td>0.020808</td>\n",
       "    </tr>\n",
       "    <tr>\n",
       "      <th>3</th>\n",
       "      <td>305</td>\n",
       "      <td>0.006728</td>\n",
       "      <td>0.015766</td>\n",
       "      <td>0.000000</td>\n",
       "      <td>0.015291</td>\n",
       "      <td>0.000045</td>\n",
       "      <td>0.037801</td>\n",
       "      <td>0.024465</td>\n",
       "      <td>0.000428</td>\n",
       "      <td>0.005842</td>\n",
       "      <td>0.032593</td>\n",
       "    </tr>\n",
       "    <tr>\n",
       "      <th>4</th>\n",
       "      <td>349</td>\n",
       "      <td>0.015291</td>\n",
       "      <td>0.000045</td>\n",
       "      <td>0.037801</td>\n",
       "      <td>0.024465</td>\n",
       "      <td>0.000428</td>\n",
       "      <td>0.005842</td>\n",
       "      <td>0.024465</td>\n",
       "      <td>0.000428</td>\n",
       "      <td>0.005842</td>\n",
       "      <td>0.033900</td>\n",
       "    </tr>\n",
       "    <tr>\n",
       "      <th>5</th>\n",
       "      <td>274</td>\n",
       "      <td>0.015291</td>\n",
       "      <td>0.000045</td>\n",
       "      <td>0.037801</td>\n",
       "      <td>0.015291</td>\n",
       "      <td>0.000045</td>\n",
       "      <td>0.037801</td>\n",
       "      <td>0.010966</td>\n",
       "      <td>0.023468</td>\n",
       "      <td>0.000000</td>\n",
       "      <td>0.037318</td>\n",
       "    </tr>\n",
       "    <tr>\n",
       "      <th>...</th>\n",
       "      <td>...</td>\n",
       "      <td>...</td>\n",
       "      <td>...</td>\n",
       "      <td>...</td>\n",
       "      <td>...</td>\n",
       "      <td>...</td>\n",
       "      <td>...</td>\n",
       "      <td>...</td>\n",
       "      <td>...</td>\n",
       "      <td>...</td>\n",
       "      <td>...</td>\n",
       "    </tr>\n",
       "    <tr>\n",
       "      <th>380</th>\n",
       "      <td>86</td>\n",
       "      <td>0.900000</td>\n",
       "      <td>0.000000</td>\n",
       "      <td>0.500000</td>\n",
       "      <td>0.900000</td>\n",
       "      <td>0.000000</td>\n",
       "      <td>0.500000</td>\n",
       "      <td>0.900000</td>\n",
       "      <td>0.000000</td>\n",
       "      <td>0.500000</td>\n",
       "      <td>2.393990</td>\n",
       "    </tr>\n",
       "    <tr>\n",
       "      <th>381</th>\n",
       "      <td>31</td>\n",
       "      <td>1.000000</td>\n",
       "      <td>0.000000</td>\n",
       "      <td>0.100000</td>\n",
       "      <td>1.000000</td>\n",
       "      <td>0.000000</td>\n",
       "      <td>0.300000</td>\n",
       "      <td>1.000000</td>\n",
       "      <td>0.000000</td>\n",
       "      <td>0.300000</td>\n",
       "      <td>2.585841</td>\n",
       "    </tr>\n",
       "    <tr>\n",
       "      <th>382</th>\n",
       "      <td>120</td>\n",
       "      <td>0.700000</td>\n",
       "      <td>0.100000</td>\n",
       "      <td>0.400000</td>\n",
       "      <td>0.700000</td>\n",
       "      <td>0.100000</td>\n",
       "      <td>0.400000</td>\n",
       "      <td>0.700000</td>\n",
       "      <td>0.100000</td>\n",
       "      <td>0.400000</td>\n",
       "      <td>2.624066</td>\n",
       "    </tr>\n",
       "    <tr>\n",
       "      <th>383</th>\n",
       "      <td>111</td>\n",
       "      <td>1.000000</td>\n",
       "      <td>0.000000</td>\n",
       "      <td>0.300000</td>\n",
       "      <td>1.000000</td>\n",
       "      <td>0.000000</td>\n",
       "      <td>0.300000</td>\n",
       "      <td>1.000000</td>\n",
       "      <td>0.000000</td>\n",
       "      <td>0.300000</td>\n",
       "      <td>2.647916</td>\n",
       "    </tr>\n",
       "    <tr>\n",
       "      <th>384</th>\n",
       "      <td>1</td>\n",
       "      <td>1.000000</td>\n",
       "      <td>0.000000</td>\n",
       "      <td>0.100000</td>\n",
       "      <td>1.000000</td>\n",
       "      <td>0.000000</td>\n",
       "      <td>0.100000</td>\n",
       "      <td>1.000000</td>\n",
       "      <td>0.000000</td>\n",
       "      <td>0.100000</td>\n",
       "      <td>2.947923</td>\n",
       "    </tr>\n",
       "  </tbody>\n",
       "</table>\n",
       "<p>384 rows × 11 columns</p>\n",
       "</div>"
      ],
      "text/plain": [
       "      Id  Aplicação 1 - SLLC  Aplicação 1 - DRAM  Aplicação 1 - NET  \\\n",
       "1    337            0.015291            0.000045           0.037801   \n",
       "2    208            0.006728            0.015766           0.000000   \n",
       "3    305            0.006728            0.015766           0.000000   \n",
       "4    349            0.015291            0.000045           0.037801   \n",
       "5    274            0.015291            0.000045           0.037801   \n",
       "..   ...                 ...                 ...                ...   \n",
       "380   86            0.900000            0.000000           0.500000   \n",
       "381   31            1.000000            0.000000           0.100000   \n",
       "382  120            0.700000            0.100000           0.400000   \n",
       "383  111            1.000000            0.000000           0.300000   \n",
       "384    1            1.000000            0.000000           0.100000   \n",
       "\n",
       "     Aplicação 2 - SLLC  Aplicação 2 - DRAM  Aplicação 2 - NET  \\\n",
       "1              0.015291            0.000045           0.037801   \n",
       "2              0.015291            0.000045           0.037801   \n",
       "3              0.015291            0.000045           0.037801   \n",
       "4              0.024465            0.000428           0.005842   \n",
       "5              0.015291            0.000045           0.037801   \n",
       "..                  ...                 ...                ...   \n",
       "380            0.900000            0.000000           0.500000   \n",
       "381            1.000000            0.000000           0.300000   \n",
       "382            0.700000            0.100000           0.400000   \n",
       "383            1.000000            0.000000           0.300000   \n",
       "384            1.000000            0.000000           0.100000   \n",
       "\n",
       "     Aplicação 3 - SLLC  Aplicação 3 - DRAM  Aplicação 3 - NET  SlowDown  \n",
       "1              0.024465            0.000428           0.005842  0.008548  \n",
       "2              0.015291            0.000045           0.037801  0.020808  \n",
       "3              0.024465            0.000428           0.005842  0.032593  \n",
       "4              0.024465            0.000428           0.005842  0.033900  \n",
       "5              0.010966            0.023468           0.000000  0.037318  \n",
       "..                  ...                 ...                ...       ...  \n",
       "380            0.900000            0.000000           0.500000  2.393990  \n",
       "381            1.000000            0.000000           0.300000  2.585841  \n",
       "382            0.700000            0.100000           0.400000  2.624066  \n",
       "383            1.000000            0.000000           0.300000  2.647916  \n",
       "384            1.000000            0.000000           0.100000  2.947923  \n",
       "\n",
       "[384 rows x 11 columns]"
      ]
     },
     "execution_count": 4,
     "metadata": {},
     "output_type": "execute_result"
    }
   ],
   "source": [
    "dt_3apli.drop(dt_3apli[dt_3apli['SlowDown'] < 0].index)"
   ]
  },
  {
   "cell_type": "code",
   "execution_count": 5,
   "metadata": {
    "scrolled": true
   },
   "outputs": [
    {
     "data": {
      "text/plain": [
       "(array([109.,  33.,  54.,   0.,  30.]),\n",
       " array([0. , 0.2, 0.4, 0.6, 0.8, 1. ]),\n",
       " <a list of 5 Patch objects>)"
      ]
     },
     "execution_count": 5,
     "metadata": {},
     "output_type": "execute_result"
    },
    {
     "data": {
      "image/png": "[encoded data removed]",
      "text/plain": [
       "<Figure size 432x288 with 1 Axes>"
      ]
     },
     "metadata": {
      "needs_background": "light"
     },
     "output_type": "display_data"
    }
   ],
   "source": [
    "plt.hist(dt_2apli['Aplicação 1 - SLLC'], bins=[0, 0.2, 0.4, 0.6, 0.8, 1])"
   ]
  },
  {
   "cell_type": "code",
   "execution_count": 6,
   "metadata": {
    "scrolled": true
   },
   "outputs": [
    {
     "data": {
      "text/plain": [
       "(array([130.,   6.,  57.,   0.,  33.]),\n",
       " array([0. , 0.2, 0.4, 0.6, 0.8, 1. ]),\n",
       " <a list of 5 Patch objects>)"
      ]
     },
     "execution_count": 6,
     "metadata": {},
     "output_type": "execute_result"
    },
    {
     "data": {
      "image/png": "[encoded data removed]",
      "text/plain": [
       "<Figure size 432x288 with 1 Axes>"
      ]
     },
     "metadata": {
      "needs_background": "light"
     },
     "output_type": "display_data"
    }
   ],
   "source": [
    "plt.hist(dt_2apli['Aplicação 1 - DRAM'], bins=[0, 0.2, 0.4, 0.6, 0.8, 1])"
   ]
  },
  {
   "cell_type": "code",
   "execution_count": 7,
   "metadata": {
    "scrolled": true
   },
   "outputs": [
    {
     "data": {
      "text/plain": [
       "(array([ 73.,   6., 108.,   0.,  39.]),\n",
       " array([0. , 0.2, 0.4, 0.6, 0.8, 1. ]),\n",
       " <a list of 5 Patch objects>)"
      ]
     },
     "execution_count": 7,
     "metadata": {},
     "output_type": "execute_result"
    },
    {
     "data": {
      "image/png": "[encoded data removed]",
      "text/plain": [
       "<Figure size 432x288 with 1 Axes>"
      ]
     },
     "metadata": {
      "needs_background": "light"
     },
     "output_type": "display_data"
    }
   ],
   "source": [
    "plt.hist(dt_2apli['Aplicação 1 - NET'], bins=[0, 0.2, 0.4, 0.6, 0.8, 1])"
   ]
  },
  {
   "cell_type": "code",
   "execution_count": 8,
   "metadata": {
    "scrolled": true
   },
   "outputs": [
    {
     "data": {
      "text/plain": [
       "(array([115.,  24.,  60.,   0.,  27.]),\n",
       " array([0. , 0.2, 0.4, 0.6, 0.8, 1. ]),\n",
       " <a list of 5 Patch objects>)"
      ]
     },
     "execution_count": 8,
     "metadata": {},
     "output_type": "execute_result"
    },
    {
     "data": {
      "image/png": "[encoded data removed]",
      "text/plain": [
       "<Figure size 432x288 with 1 Axes>"
      ]
     },
     "metadata": {
      "needs_background": "light"
     },
     "output_type": "display_data"
    }
   ],
   "source": [
    "plt.hist(dt_2apli['Aplicação 2 - SLLC'], bins=[0, 0.2, 0.4, 0.6, 0.8, 1])"
   ]
  },
  {
   "cell_type": "code",
   "execution_count": 9,
   "metadata": {
    "scrolled": true
   },
   "outputs": [
    {
     "data": {
      "text/plain": [
       "(array([140.,   5.,  57.,   0.,  24.]),\n",
       " array([0. , 0.2, 0.4, 0.6, 0.8, 1. ]),\n",
       " <a list of 5 Patch objects>)"
      ]
     },
     "execution_count": 9,
     "metadata": {},
     "output_type": "execute_result"
    },
    {
     "data": {
      "image/png": "[encoded data removed]",
      "text/plain": [
       "<Figure size 432x288 with 1 Axes>"
      ]
     },
     "metadata": {
      "needs_background": "light"
     },
     "output_type": "display_data"
    }
   ],
   "source": [
    "plt.hist(dt_2apli['Aplicação 2 - DRAM'], bins=[0, 0.2, 0.4, 0.6, 0.8, 1])"
   ]
  },
  {
   "cell_type": "code",
   "execution_count": 10,
   "metadata": {
    "scrolled": true
   },
   "outputs": [
    {
     "data": {
      "text/plain": [
       "(array([118.,   5.,  28.,   0.,  75.]),\n",
       " array([0. , 0.2, 0.4, 0.6, 0.8, 1. ]),\n",
       " <a list of 5 Patch objects>)"
      ]
     },
     "execution_count": 10,
     "metadata": {},
     "output_type": "execute_result"
    },
    {
     "data": {
      "image/png": "[encoded data removed]",
      "text/plain": [
       "<Figure size 432x288 with 1 Axes>"
      ]
     },
     "metadata": {
      "needs_background": "light"
     },
     "output_type": "display_data"
    }
   ],
   "source": [
    "plt.hist(dt_2apli['Aplicação 2 - NET'], bins=[0, 0.2, 0.4, 0.6, 0.8, 1])"
   ]
  },
  {
   "cell_type": "code",
   "execution_count": 11,
   "metadata": {
    "scrolled": false
   },
   "outputs": [
    {
     "data": {
      "text/plain": [
       "(array([248.,  34.,   0.,  46.,  57.]),\n",
       " array([0. , 0.2, 0.4, 0.6, 0.8, 1. ]),\n",
       " <a list of 5 Patch objects>)"
      ]
     },
     "execution_count": 11,
     "metadata": {},
     "output_type": "execute_result"
    },
    {
     "data": {
      "image/png": "[encoded data removed]",
      "text/plain": [
       "<Figure size 432x288 with 1 Axes>"
      ]
     },
     "metadata": {
      "needs_background": "light"
     },
     "output_type": "display_data"
    }
   ],
   "source": [
    "plt.hist(dt_3apli['Aplicação 1 - SLLC'], bins=[0, 0.2, 0.4, 0.6, 0.8, 1])"
   ]
  },
  {
   "cell_type": "code",
   "execution_count": 12,
   "metadata": {
    "scrolled": false
   },
   "outputs": [
    {
     "data": {
      "text/plain": [
       "(array([351.,   0.,   0.,   0.,  34.]),\n",
       " array([0. , 0.2, 0.4, 0.6, 0.8, 1. ]),\n",
       " <a list of 5 Patch objects>)"
      ]
     },
     "execution_count": 12,
     "metadata": {},
     "output_type": "execute_result"
    },
    {
     "data": {
      "image/png": "[encoded data removed]",
      "text/plain": [
       "<Figure size 432x288 with 1 Axes>"
      ]
     },
     "metadata": {
      "needs_background": "light"
     },
     "output_type": "display_data"
    }
   ],
   "source": [
    "plt.hist(dt_3apli['Aplicação 1 - DRAM'], bins=[0, 0.2, 0.4, 0.6, 0.8, 1])"
   ]
  },
  {
   "cell_type": "code",
   "execution_count": 13,
   "metadata": {
    "scrolled": false
   },
   "outputs": [
    {
     "data": {
      "text/plain": [
       "(array([266.,   9., 110.,   0.,   0.]),\n",
       " array([0. , 0.2, 0.4, 0.6, 0.8, 1. ]),\n",
       " <a list of 5 Patch objects>)"
      ]
     },
     "execution_count": 13,
     "metadata": {},
     "output_type": "execute_result"
    },
    {
     "data": {
      "image/png": "[encoded data removed]",
      "text/plain": [
       "<Figure size 432x288 with 1 Axes>"
      ]
     },
     "metadata": {
      "needs_background": "light"
     },
     "output_type": "display_data"
    }
   ],
   "source": [
    "plt.hist(dt_3apli['Aplicação 1 - NET'], bins=[0, 0.2, 0.4, 0.6, 0.8, 1])"
   ]
  },
  {
   "cell_type": "code",
   "execution_count": 14,
   "metadata": {
    "scrolled": false
   },
   "outputs": [
    {
     "data": {
      "text/plain": [
       "(array([242.,  66.,   0.,  13.,  64.]),\n",
       " array([0. , 0.2, 0.4, 0.6, 0.8, 1. ]),\n",
       " <a list of 5 Patch objects>)"
      ]
     },
     "execution_count": 14,
     "metadata": {},
     "output_type": "execute_result"
    },
    {
     "data": {
      "image/png": "[encoded data removed]",
      "text/plain": [
       "<Figure size 432x288 with 1 Axes>"
      ]
     },
     "metadata": {
      "needs_background": "light"
     },
     "output_type": "display_data"
    }
   ],
   "source": [
    "plt.hist(dt_3apli['Aplicação 2 - SLLC'], bins=[0, 0.2, 0.4, 0.6, 0.8, 1])"
   ]
  },
  {
   "cell_type": "code",
   "execution_count": 15,
   "metadata": {
    "scrolled": false
   },
   "outputs": [
    {
     "data": {
      "text/plain": [
       "(array([319.,   0.,   0.,   0.,  66.]),\n",
       " array([0. , 0.2, 0.4, 0.6, 0.8, 1. ]),\n",
       " <a list of 5 Patch objects>)"
      ]
     },
     "execution_count": 15,
     "metadata": {},
     "output_type": "execute_result"
    },
    {
     "data": {
      "image/png": "[encoded data removed]",
      "text/plain": [
       "<Figure size 432x288 with 1 Axes>"
      ]
     },
     "metadata": {
      "needs_background": "light"
     },
     "output_type": "display_data"
    }
   ],
   "source": [
    "plt.hist(dt_3apli['Aplicação 2 - DRAM'], bins=[0, 0.2, 0.4, 0.6, 0.8, 1])"
   ]
  },
  {
   "cell_type": "code",
   "execution_count": 16,
   "metadata": {
    "scrolled": false
   },
   "outputs": [
    {
     "data": {
      "text/plain": [
       "(array([237.,  37., 111.,   0.,   0.]),\n",
       " array([0. , 0.2, 0.4, 0.6, 0.8, 1. ]),\n",
       " <a list of 5 Patch objects>)"
      ]
     },
     "execution_count": 16,
     "metadata": {},
     "output_type": "execute_result"
    },
    {
     "data": {
      "image/png": "[encoded data removed]",
      "text/plain": [
       "<Figure size 432x288 with 1 Axes>"
      ]
     },
     "metadata": {
      "needs_background": "light"
     },
     "output_type": "display_data"
    }
   ],
   "source": [
    "plt.hist(dt_3apli['Aplicação 2 - NET'], bins=[0, 0.2, 0.4, 0.6, 0.8, 1])"
   ]
  },
  {
   "cell_type": "code",
   "execution_count": 17,
   "metadata": {
    "scrolled": false
   },
   "outputs": [
    {
     "data": {
      "text/plain": [
       "(array([225.,  65.,   0.,  51.,  44.]),\n",
       " array([0. , 0.2, 0.4, 0.6, 0.8, 1. ]),\n",
       " <a list of 5 Patch objects>)"
      ]
     },
     "execution_count": 17,
     "metadata": {},
     "output_type": "execute_result"
    },
    {
     "data": {
      "image/png": "[encoded data removed]",
      "text/plain": [
       "<Figure size 432x288 with 1 Axes>"
      ]
     },
     "metadata": {
      "needs_background": "light"
     },
     "output_type": "display_data"
    }
   ],
   "source": [
    "plt.hist(dt_3apli['Aplicação 3 - SLLC'], bins=[0, 0.2, 0.4, 0.6, 0.8, 1])"
   ]
  },
  {
   "cell_type": "code",
   "execution_count": 18,
   "metadata": {
    "scrolled": false
   },
   "outputs": [
    {
     "data": {
      "text/plain": [
       "(array([320.,   0.,   0.,   0.,  65.]),\n",
       " array([0. , 0.2, 0.4, 0.6, 0.8, 1. ]),\n",
       " <a list of 5 Patch objects>)"
      ]
     },
     "execution_count": 18,
     "metadata": {},
     "output_type": "execute_result"
    },
    {
     "data": {
      "image/png": "[encoded data removed]",
      "text/plain": [
       "<Figure size 432x288 with 1 Axes>"
      ]
     },
     "metadata": {
      "needs_background": "light"
     },
     "output_type": "display_data"
    }
   ],
   "source": [
    "plt.hist(dt_3apli['Aplicação 3 - DRAM'], bins=[0, 0.2, 0.4, 0.6, 0.8, 1])"
   ]
  },
  {
   "cell_type": "code",
   "execution_count": 19,
   "metadata": {
    "scrolled": false
   },
   "outputs": [
    {
     "data": {
      "text/plain": [
       "(array([190.,  64., 131.,   0.,   0.]),\n",
       " array([0. , 0.2, 0.4, 0.6, 0.8, 1. ]),\n",
       " <a list of 5 Patch objects>)"
      ]
     },
     "execution_count": 19,
     "metadata": {},
     "output_type": "execute_result"
    },
    {
     "data": {
      "image/png": "[encoded data removed]",
      "text/plain": [
       "<Figure size 432x288 with 1 Axes>"
      ]
     },
     "metadata": {
      "needs_background": "light"
     },
     "output_type": "display_data"
    }
   ],
   "source": [
    "plt.hist(dt_3apli['Aplicação 3 - NET'], bins=[0, 0.2, 0.4, 0.6, 0.8, 1])"
   ]
  },
  {
   "cell_type": "code",
   "execution_count": 20,
   "metadata": {},
   "outputs": [],
   "source": [
    "def definir_categorias(x, nomes_colunas_numericas):\n",
    "    colunas_retorno = []\n",
    "    for coluna in nomes_colunas_numericas:\n",
    "        #print(x[coluna])\n",
    "        if (x[coluna] <= 0.2):\n",
    "            colunas_retorno.append('Muito baixo')\n",
    "        elif (x[coluna] <= 0.4):\n",
    "            colunas_retorno.append('Baixo')\n",
    "        elif (x[coluna] <= 0.6):\n",
    "            colunas_retorno.append('Medio')\n",
    "        elif (x[coluna] <= 0.8):\n",
    "            colunas_retorno.append('Alto')\n",
    "        else:\n",
    "            colunas_retorno.append('Muito alto')\n",
    "    return pd.Series(colunas_retorno)"
   ]
  },
  {
   "cell_type": "code",
   "execution_count": 21,
   "metadata": {},
   "outputs": [],
   "source": [
    "def normalizar_definir_saida(x, nome_coluna_saida, valor_minimo, valor_maximo):\n",
    "    valor_normalizado = (x[nome_coluna_saida] - valor_minimo)/(valor_maximo - valor_minimo)\n",
    "    valor_retorno = []\n",
    "    if (valor_normalizado <= 0.2):\n",
    "        valor_retorno.append('Muito baixo')\n",
    "    elif (valor_normalizado <= 0.4):\n",
    "        valor_retorno.append('Baixo')\n",
    "    elif (valor_normalizado <= 0.6):\n",
    "        valor_retorno.append('Medio')\n",
    "    elif (valor_normalizado <= 0.8):\n",
    "        valor_retorno.append('Alto')\n",
    "    else:\n",
    "        valor_retorno.append('Muito alto')\n",
    "    return pd.Series(valor_retorno)"
   ]
  },
  {
   "cell_type": "code",
   "execution_count": 22,
   "metadata": {
    "scrolled": false
   },
   "outputs": [
    {
     "data": {
      "text/html": [
       "<div>\n",
       "<style scoped>\n",
       "    .dataframe tbody tr th:only-of-type {\n",
       "        vertical-align: middle;\n",
       "    }\n",
       "\n",
       "    .dataframe tbody tr th {\n",
       "        vertical-align: top;\n",
       "    }\n",
       "\n",
       "    .dataframe thead th {\n",
       "        text-align: right;\n",
       "    }\n",
       "</style>\n",
       "<table border=\"1\" class=\"dataframe\">\n",
       "  <thead>\n",
       "    <tr style=\"text-align: right;\">\n",
       "      <th></th>\n",
       "      <th>Id</th>\n",
       "      <th>Aplicação 1 - SLLC</th>\n",
       "      <th>Aplicação 1 - DRAM</th>\n",
       "      <th>Aplicação 1 - NET</th>\n",
       "      <th>Aplicação 2 - SLLC</th>\n",
       "      <th>Aplicação 2 - DRAM</th>\n",
       "      <th>Aplicação 2 - NET</th>\n",
       "      <th>SlowDown</th>\n",
       "      <th>App1 - SLLC</th>\n",
       "      <th>App1 - DRAM</th>\n",
       "      <th>App1 - NET</th>\n",
       "      <th>App2 - SLLC</th>\n",
       "      <th>App2 - DRAM</th>\n",
       "      <th>App2 - NET</th>\n",
       "      <th>Nivel de interferencia</th>\n",
       "    </tr>\n",
       "  </thead>\n",
       "  <tbody>\n",
       "    <tr>\n",
       "      <th>0</th>\n",
       "      <td>1</td>\n",
       "      <td>1.000000</td>\n",
       "      <td>0.000000</td>\n",
       "      <td>0.100000</td>\n",
       "      <td>1.000000</td>\n",
       "      <td>0.000000</td>\n",
       "      <td>0.100000</td>\n",
       "      <td>1.423619</td>\n",
       "      <td>Muito alto</td>\n",
       "      <td>Muito baixo</td>\n",
       "      <td>Muito baixo</td>\n",
       "      <td>Muito alto</td>\n",
       "      <td>Muito baixo</td>\n",
       "      <td>Muito baixo</td>\n",
       "      <td>Alto</td>\n",
       "    </tr>\n",
       "    <tr>\n",
       "      <th>1</th>\n",
       "      <td>2</td>\n",
       "      <td>1.000000</td>\n",
       "      <td>0.000000</td>\n",
       "      <td>0.100000</td>\n",
       "      <td>0.500000</td>\n",
       "      <td>0.100000</td>\n",
       "      <td>0.100000</td>\n",
       "      <td>0.777113</td>\n",
       "      <td>Muito alto</td>\n",
       "      <td>Muito baixo</td>\n",
       "      <td>Muito baixo</td>\n",
       "      <td>Medio</td>\n",
       "      <td>Muito baixo</td>\n",
       "      <td>Muito baixo</td>\n",
       "      <td>Baixo</td>\n",
       "    </tr>\n",
       "    <tr>\n",
       "      <th>2</th>\n",
       "      <td>3</td>\n",
       "      <td>1.000000</td>\n",
       "      <td>0.000000</td>\n",
       "      <td>0.100000</td>\n",
       "      <td>0.100000</td>\n",
       "      <td>0.100000</td>\n",
       "      <td>0.100000</td>\n",
       "      <td>0.340972</td>\n",
       "      <td>Muito alto</td>\n",
       "      <td>Muito baixo</td>\n",
       "      <td>Muito baixo</td>\n",
       "      <td>Muito baixo</td>\n",
       "      <td>Muito baixo</td>\n",
       "      <td>Muito baixo</td>\n",
       "      <td>Muito baixo</td>\n",
       "    </tr>\n",
       "    <tr>\n",
       "      <th>3</th>\n",
       "      <td>4</td>\n",
       "      <td>1.000000</td>\n",
       "      <td>0.000000</td>\n",
       "      <td>0.100000</td>\n",
       "      <td>0.300000</td>\n",
       "      <td>1.000000</td>\n",
       "      <td>0.100000</td>\n",
       "      <td>0.717028</td>\n",
       "      <td>Muito alto</td>\n",
       "      <td>Muito baixo</td>\n",
       "      <td>Muito baixo</td>\n",
       "      <td>Baixo</td>\n",
       "      <td>Muito alto</td>\n",
       "      <td>Muito baixo</td>\n",
       "      <td>Baixo</td>\n",
       "    </tr>\n",
       "    <tr>\n",
       "      <th>4</th>\n",
       "      <td>5</td>\n",
       "      <td>1.000000</td>\n",
       "      <td>0.000000</td>\n",
       "      <td>0.100000</td>\n",
       "      <td>0.100000</td>\n",
       "      <td>0.500000</td>\n",
       "      <td>0.100000</td>\n",
       "      <td>0.314561</td>\n",
       "      <td>Muito alto</td>\n",
       "      <td>Muito baixo</td>\n",
       "      <td>Muito baixo</td>\n",
       "      <td>Muito baixo</td>\n",
       "      <td>Medio</td>\n",
       "      <td>Muito baixo</td>\n",
       "      <td>Muito baixo</td>\n",
       "    </tr>\n",
       "    <tr>\n",
       "      <th>...</th>\n",
       "      <td>...</td>\n",
       "      <td>...</td>\n",
       "      <td>...</td>\n",
       "      <td>...</td>\n",
       "      <td>...</td>\n",
       "      <td>...</td>\n",
       "      <td>...</td>\n",
       "      <td>...</td>\n",
       "      <td>...</td>\n",
       "      <td>...</td>\n",
       "      <td>...</td>\n",
       "      <td>...</td>\n",
       "      <td>...</td>\n",
       "      <td>...</td>\n",
       "      <td>...</td>\n",
       "    </tr>\n",
       "    <tr>\n",
       "      <th>221</th>\n",
       "      <td>222</td>\n",
       "      <td>0.030208</td>\n",
       "      <td>0.000405</td>\n",
       "      <td>0.007904</td>\n",
       "      <td>0.010135</td>\n",
       "      <td>0.023649</td>\n",
       "      <td>0.000000</td>\n",
       "      <td>0.091409</td>\n",
       "      <td>Muito baixo</td>\n",
       "      <td>Muito baixo</td>\n",
       "      <td>Muito baixo</td>\n",
       "      <td>Muito baixo</td>\n",
       "      <td>Muito baixo</td>\n",
       "      <td>Muito baixo</td>\n",
       "      <td>Muito baixo</td>\n",
       "    </tr>\n",
       "    <tr>\n",
       "      <th>222</th>\n",
       "      <td>223</td>\n",
       "      <td>0.030208</td>\n",
       "      <td>0.000405</td>\n",
       "      <td>0.007904</td>\n",
       "      <td>0.016550</td>\n",
       "      <td>0.021351</td>\n",
       "      <td>0.000000</td>\n",
       "      <td>0.076593</td>\n",
       "      <td>Muito baixo</td>\n",
       "      <td>Muito baixo</td>\n",
       "      <td>Muito baixo</td>\n",
       "      <td>Muito baixo</td>\n",
       "      <td>Muito baixo</td>\n",
       "      <td>Muito baixo</td>\n",
       "      <td>Muito baixo</td>\n",
       "    </tr>\n",
       "    <tr>\n",
       "      <th>223</th>\n",
       "      <td>224</td>\n",
       "      <td>0.030208</td>\n",
       "      <td>0.000405</td>\n",
       "      <td>0.007904</td>\n",
       "      <td>0.068000</td>\n",
       "      <td>0.169369</td>\n",
       "      <td>0.493127</td>\n",
       "      <td>0.100670</td>\n",
       "      <td>Muito baixo</td>\n",
       "      <td>Muito baixo</td>\n",
       "      <td>Muito baixo</td>\n",
       "      <td>Muito baixo</td>\n",
       "      <td>Muito baixo</td>\n",
       "      <td>Medio</td>\n",
       "      <td>Muito baixo</td>\n",
       "    </tr>\n",
       "    <tr>\n",
       "      <th>224</th>\n",
       "      <td>225</td>\n",
       "      <td>0.030208</td>\n",
       "      <td>0.000405</td>\n",
       "      <td>0.007904</td>\n",
       "      <td>0.070336</td>\n",
       "      <td>0.164347</td>\n",
       "      <td>0.516838</td>\n",
       "      <td>0.097879</td>\n",
       "      <td>Muito baixo</td>\n",
       "      <td>Muito baixo</td>\n",
       "      <td>Muito baixo</td>\n",
       "      <td>Muito baixo</td>\n",
       "      <td>Muito baixo</td>\n",
       "      <td>Medio</td>\n",
       "      <td>Muito baixo</td>\n",
       "    </tr>\n",
       "    <tr>\n",
       "      <th>225</th>\n",
       "      <td>226</td>\n",
       "      <td>0.030208</td>\n",
       "      <td>0.000405</td>\n",
       "      <td>0.007904</td>\n",
       "      <td>0.053058</td>\n",
       "      <td>0.127207</td>\n",
       "      <td>0.003780</td>\n",
       "      <td>0.088420</td>\n",
       "      <td>Muito baixo</td>\n",
       "      <td>Muito baixo</td>\n",
       "      <td>Muito baixo</td>\n",
       "      <td>Muito baixo</td>\n",
       "      <td>Muito baixo</td>\n",
       "      <td>Muito baixo</td>\n",
       "      <td>Muito baixo</td>\n",
       "    </tr>\n",
       "  </tbody>\n",
       "</table>\n",
       "<p>226 rows × 15 columns</p>\n",
       "</div>"
      ],
      "text/plain": [
       "      Id  Aplicação 1 - SLLC  Aplicação 1 - DRAM  Aplicação 1 - NET  \\\n",
       "0      1            1.000000            0.000000           0.100000   \n",
       "1      2            1.000000            0.000000           0.100000   \n",
       "2      3            1.000000            0.000000           0.100000   \n",
       "3      4            1.000000            0.000000           0.100000   \n",
       "4      5            1.000000            0.000000           0.100000   \n",
       "..   ...                 ...                 ...                ...   \n",
       "221  222            0.030208            0.000405           0.007904   \n",
       "222  223            0.030208            0.000405           0.007904   \n",
       "223  224            0.030208            0.000405           0.007904   \n",
       "224  225            0.030208            0.000405           0.007904   \n",
       "225  226            0.030208            0.000405           0.007904   \n",
       "\n",
       "     Aplicação 2 - SLLC  Aplicação 2 - DRAM  Aplicação 2 - NET  SlowDown  \\\n",
       "0              1.000000            0.000000           0.100000  1.423619   \n",
       "1              0.500000            0.100000           0.100000  0.777113   \n",
       "2              0.100000            0.100000           0.100000  0.340972   \n",
       "3              0.300000            1.000000           0.100000  0.717028   \n",
       "4              0.100000            0.500000           0.100000  0.314561   \n",
       "..                  ...                 ...                ...       ...   \n",
       "221            0.010135            0.023649           0.000000  0.091409   \n",
       "222            0.016550            0.021351           0.000000  0.076593   \n",
       "223            0.068000            0.169369           0.493127  0.100670   \n",
       "224            0.070336            0.164347           0.516838  0.097879   \n",
       "225            0.053058            0.127207           0.003780  0.088420   \n",
       "\n",
       "     App1 - SLLC  App1 - DRAM   App1 - NET  App2 - SLLC  App2 - DRAM  \\\n",
       "0     Muito alto  Muito baixo  Muito baixo   Muito alto  Muito baixo   \n",
       "1     Muito alto  Muito baixo  Muito baixo        Medio  Muito baixo   \n",
       "2     Muito alto  Muito baixo  Muito baixo  Muito baixo  Muito baixo   \n",
       "3     Muito alto  Muito baixo  Muito baixo        Baixo   Muito alto   \n",
       "4     Muito alto  Muito baixo  Muito baixo  Muito baixo        Medio   \n",
       "..           ...          ...          ...          ...          ...   \n",
       "221  Muito baixo  Muito baixo  Muito baixo  Muito baixo  Muito baixo   \n",
       "222  Muito baixo  Muito baixo  Muito baixo  Muito baixo  Muito baixo   \n",
       "223  Muito baixo  Muito baixo  Muito baixo  Muito baixo  Muito baixo   \n",
       "224  Muito baixo  Muito baixo  Muito baixo  Muito baixo  Muito baixo   \n",
       "225  Muito baixo  Muito baixo  Muito baixo  Muito baixo  Muito baixo   \n",
       "\n",
       "      App2 - NET Nivel de interferencia  \n",
       "0    Muito baixo                   Alto  \n",
       "1    Muito baixo                  Baixo  \n",
       "2    Muito baixo            Muito baixo  \n",
       "3    Muito baixo                  Baixo  \n",
       "4    Muito baixo            Muito baixo  \n",
       "..           ...                    ...  \n",
       "221  Muito baixo            Muito baixo  \n",
       "222  Muito baixo            Muito baixo  \n",
       "223        Medio            Muito baixo  \n",
       "224        Medio            Muito baixo  \n",
       "225  Muito baixo            Muito baixo  \n",
       "\n",
       "[226 rows x 15 columns]"
      ]
     },
     "execution_count": 22,
     "metadata": {},
     "output_type": "execute_result"
    }
   ],
   "source": [
    "dt_2apli[['App1 - SLLC', \n",
    "          'App1 - DRAM', \n",
    "          'App1 - NET', \n",
    "          'App2 - SLLC', \n",
    "          'App2 - DRAM', \n",
    "          'App2 - NET']] = dt_2apli.apply(lambda x: definir_categorias(x, ['Aplicação 1 - SLLC', \n",
    "                                                                           'Aplicação 1 - DRAM', \n",
    "                                                                           'Aplicação 1 - NET', \n",
    "                                                                           'Aplicação 2 - SLLC', \n",
    "                                                                           'Aplicação 2 - DRAM', \n",
    "                                                                           'Aplicação 2 - NET']), axis=1)\n",
    "\n",
    "dt_2apli[['Nivel de interferencia']] = dt_2apli.apply(lambda x: normalizar_definir_saida(x, 'SlowDown', dt_2apli['SlowDown'].min(), dt_2apli['SlowDown'].max()), axis=1)\n",
    "dt_2apli"
   ]
  },
  {
   "cell_type": "code",
   "execution_count": 23,
   "metadata": {},
   "outputs": [
    {
     "data": {
      "text/html": [
       "<div>\n",
       "<style scoped>\n",
       "    .dataframe tbody tr th:only-of-type {\n",
       "        vertical-align: middle;\n",
       "    }\n",
       "\n",
       "    .dataframe tbody tr th {\n",
       "        vertical-align: top;\n",
       "    }\n",
       "\n",
       "    .dataframe thead th {\n",
       "        text-align: right;\n",
       "    }\n",
       "</style>\n",
       "<table border=\"1\" class=\"dataframe\">\n",
       "  <thead>\n",
       "    <tr style=\"text-align: right;\">\n",
       "      <th></th>\n",
       "      <th>Id</th>\n",
       "      <th>Aplicação 1 - SLLC</th>\n",
       "      <th>Aplicação 1 - DRAM</th>\n",
       "      <th>Aplicação 1 - NET</th>\n",
       "      <th>Aplicação 2 - SLLC</th>\n",
       "      <th>Aplicação 2 - DRAM</th>\n",
       "      <th>Aplicação 2 - NET</th>\n",
       "      <th>Aplicação 3 - SLLC</th>\n",
       "      <th>Aplicação 3 - DRAM</th>\n",
       "      <th>Aplicação 3 - NET</th>\n",
       "      <th>...</th>\n",
       "      <th>App1 - SLLC</th>\n",
       "      <th>App1 - DRAM</th>\n",
       "      <th>App1 - NET</th>\n",
       "      <th>App2 - SLLC</th>\n",
       "      <th>App2 - DRAM</th>\n",
       "      <th>App2 - NET</th>\n",
       "      <th>App3 - SLLC</th>\n",
       "      <th>App3 - DRAM</th>\n",
       "      <th>App3 - NET</th>\n",
       "      <th>Nivel de interferencia</th>\n",
       "    </tr>\n",
       "  </thead>\n",
       "  <tbody>\n",
       "    <tr>\n",
       "      <th>0</th>\n",
       "      <td>217</td>\n",
       "      <td>0.015291</td>\n",
       "      <td>0.000045</td>\n",
       "      <td>0.037801</td>\n",
       "      <td>0.015291</td>\n",
       "      <td>0.000045</td>\n",
       "      <td>0.037801</td>\n",
       "      <td>0.015291</td>\n",
       "      <td>0.000045</td>\n",
       "      <td>0.037801</td>\n",
       "      <td>...</td>\n",
       "      <td>Muito baixo</td>\n",
       "      <td>Muito baixo</td>\n",
       "      <td>Muito baixo</td>\n",
       "      <td>Muito baixo</td>\n",
       "      <td>Muito baixo</td>\n",
       "      <td>Muito baixo</td>\n",
       "      <td>Muito baixo</td>\n",
       "      <td>Muito baixo</td>\n",
       "      <td>Muito baixo</td>\n",
       "      <td>Muito baixo</td>\n",
       "    </tr>\n",
       "    <tr>\n",
       "      <th>1</th>\n",
       "      <td>337</td>\n",
       "      <td>0.015291</td>\n",
       "      <td>0.000045</td>\n",
       "      <td>0.037801</td>\n",
       "      <td>0.015291</td>\n",
       "      <td>0.000045</td>\n",
       "      <td>0.037801</td>\n",
       "      <td>0.024465</td>\n",
       "      <td>0.000428</td>\n",
       "      <td>0.005842</td>\n",
       "      <td>...</td>\n",
       "      <td>Muito baixo</td>\n",
       "      <td>Muito baixo</td>\n",
       "      <td>Muito baixo</td>\n",
       "      <td>Muito baixo</td>\n",
       "      <td>Muito baixo</td>\n",
       "      <td>Muito baixo</td>\n",
       "      <td>Muito baixo</td>\n",
       "      <td>Muito baixo</td>\n",
       "      <td>Muito baixo</td>\n",
       "      <td>Muito baixo</td>\n",
       "    </tr>\n",
       "    <tr>\n",
       "      <th>2</th>\n",
       "      <td>208</td>\n",
       "      <td>0.006728</td>\n",
       "      <td>0.015766</td>\n",
       "      <td>0.000000</td>\n",
       "      <td>0.015291</td>\n",
       "      <td>0.000045</td>\n",
       "      <td>0.037801</td>\n",
       "      <td>0.015291</td>\n",
       "      <td>0.000045</td>\n",
       "      <td>0.037801</td>\n",
       "      <td>...</td>\n",
       "      <td>Muito baixo</td>\n",
       "      <td>Muito baixo</td>\n",
       "      <td>Muito baixo</td>\n",
       "      <td>Muito baixo</td>\n",
       "      <td>Muito baixo</td>\n",
       "      <td>Muito baixo</td>\n",
       "      <td>Muito baixo</td>\n",
       "      <td>Muito baixo</td>\n",
       "      <td>Muito baixo</td>\n",
       "      <td>Muito baixo</td>\n",
       "    </tr>\n",
       "    <tr>\n",
       "      <th>3</th>\n",
       "      <td>305</td>\n",
       "      <td>0.006728</td>\n",
       "      <td>0.015766</td>\n",
       "      <td>0.000000</td>\n",
       "      <td>0.015291</td>\n",
       "      <td>0.000045</td>\n",
       "      <td>0.037801</td>\n",
       "      <td>0.024465</td>\n",
       "      <td>0.000428</td>\n",
       "      <td>0.005842</td>\n",
       "      <td>...</td>\n",
       "      <td>Muito baixo</td>\n",
       "      <td>Muito baixo</td>\n",
       "      <td>Muito baixo</td>\n",
       "      <td>Muito baixo</td>\n",
       "      <td>Muito baixo</td>\n",
       "      <td>Muito baixo</td>\n",
       "      <td>Muito baixo</td>\n",
       "      <td>Muito baixo</td>\n",
       "      <td>Muito baixo</td>\n",
       "      <td>Muito baixo</td>\n",
       "    </tr>\n",
       "    <tr>\n",
       "      <th>4</th>\n",
       "      <td>349</td>\n",
       "      <td>0.015291</td>\n",
       "      <td>0.000045</td>\n",
       "      <td>0.037801</td>\n",
       "      <td>0.024465</td>\n",
       "      <td>0.000428</td>\n",
       "      <td>0.005842</td>\n",
       "      <td>0.024465</td>\n",
       "      <td>0.000428</td>\n",
       "      <td>0.005842</td>\n",
       "      <td>...</td>\n",
       "      <td>Muito baixo</td>\n",
       "      <td>Muito baixo</td>\n",
       "      <td>Muito baixo</td>\n",
       "      <td>Muito baixo</td>\n",
       "      <td>Muito baixo</td>\n",
       "      <td>Muito baixo</td>\n",
       "      <td>Muito baixo</td>\n",
       "      <td>Muito baixo</td>\n",
       "      <td>Muito baixo</td>\n",
       "      <td>Muito baixo</td>\n",
       "    </tr>\n",
       "    <tr>\n",
       "      <th>...</th>\n",
       "      <td>...</td>\n",
       "      <td>...</td>\n",
       "      <td>...</td>\n",
       "      <td>...</td>\n",
       "      <td>...</td>\n",
       "      <td>...</td>\n",
       "      <td>...</td>\n",
       "      <td>...</td>\n",
       "      <td>...</td>\n",
       "      <td>...</td>\n",
       "      <td>...</td>\n",
       "      <td>...</td>\n",
       "      <td>...</td>\n",
       "      <td>...</td>\n",
       "      <td>...</td>\n",
       "      <td>...</td>\n",
       "      <td>...</td>\n",
       "      <td>...</td>\n",
       "      <td>...</td>\n",
       "      <td>...</td>\n",
       "      <td>...</td>\n",
       "    </tr>\n",
       "    <tr>\n",
       "      <th>380</th>\n",
       "      <td>86</td>\n",
       "      <td>0.900000</td>\n",
       "      <td>0.000000</td>\n",
       "      <td>0.500000</td>\n",
       "      <td>0.900000</td>\n",
       "      <td>0.000000</td>\n",
       "      <td>0.500000</td>\n",
       "      <td>0.900000</td>\n",
       "      <td>0.000000</td>\n",
       "      <td>0.500000</td>\n",
       "      <td>...</td>\n",
       "      <td>Muito alto</td>\n",
       "      <td>Muito baixo</td>\n",
       "      <td>Medio</td>\n",
       "      <td>Muito alto</td>\n",
       "      <td>Muito baixo</td>\n",
       "      <td>Medio</td>\n",
       "      <td>Muito alto</td>\n",
       "      <td>Muito baixo</td>\n",
       "      <td>Medio</td>\n",
       "      <td>Muito alto</td>\n",
       "    </tr>\n",
       "    <tr>\n",
       "      <th>381</th>\n",
       "      <td>31</td>\n",
       "      <td>1.000000</td>\n",
       "      <td>0.000000</td>\n",
       "      <td>0.100000</td>\n",
       "      <td>1.000000</td>\n",
       "      <td>0.000000</td>\n",
       "      <td>0.300000</td>\n",
       "      <td>1.000000</td>\n",
       "      <td>0.000000</td>\n",
       "      <td>0.300000</td>\n",
       "      <td>...</td>\n",
       "      <td>Muito alto</td>\n",
       "      <td>Muito baixo</td>\n",
       "      <td>Muito baixo</td>\n",
       "      <td>Muito alto</td>\n",
       "      <td>Muito baixo</td>\n",
       "      <td>Baixo</td>\n",
       "      <td>Muito alto</td>\n",
       "      <td>Muito baixo</td>\n",
       "      <td>Baixo</td>\n",
       "      <td>Muito alto</td>\n",
       "    </tr>\n",
       "    <tr>\n",
       "      <th>382</th>\n",
       "      <td>120</td>\n",
       "      <td>0.700000</td>\n",
       "      <td>0.100000</td>\n",
       "      <td>0.400000</td>\n",
       "      <td>0.700000</td>\n",
       "      <td>0.100000</td>\n",
       "      <td>0.400000</td>\n",
       "      <td>0.700000</td>\n",
       "      <td>0.100000</td>\n",
       "      <td>0.400000</td>\n",
       "      <td>...</td>\n",
       "      <td>Alto</td>\n",
       "      <td>Muito baixo</td>\n",
       "      <td>Baixo</td>\n",
       "      <td>Alto</td>\n",
       "      <td>Muito baixo</td>\n",
       "      <td>Baixo</td>\n",
       "      <td>Alto</td>\n",
       "      <td>Muito baixo</td>\n",
       "      <td>Baixo</td>\n",
       "      <td>Muito alto</td>\n",
       "    </tr>\n",
       "    <tr>\n",
       "      <th>383</th>\n",
       "      <td>111</td>\n",
       "      <td>1.000000</td>\n",
       "      <td>0.000000</td>\n",
       "      <td>0.300000</td>\n",
       "      <td>1.000000</td>\n",
       "      <td>0.000000</td>\n",
       "      <td>0.300000</td>\n",
       "      <td>1.000000</td>\n",
       "      <td>0.000000</td>\n",
       "      <td>0.300000</td>\n",
       "      <td>...</td>\n",
       "      <td>Muito alto</td>\n",
       "      <td>Muito baixo</td>\n",
       "      <td>Baixo</td>\n",
       "      <td>Muito alto</td>\n",
       "      <td>Muito baixo</td>\n",
       "      <td>Baixo</td>\n",
       "      <td>Muito alto</td>\n",
       "      <td>Muito baixo</td>\n",
       "      <td>Baixo</td>\n",
       "      <td>Muito alto</td>\n",
       "    </tr>\n",
       "    <tr>\n",
       "      <th>384</th>\n",
       "      <td>1</td>\n",
       "      <td>1.000000</td>\n",
       "      <td>0.000000</td>\n",
       "      <td>0.100000</td>\n",
       "      <td>1.000000</td>\n",
       "      <td>0.000000</td>\n",
       "      <td>0.100000</td>\n",
       "      <td>1.000000</td>\n",
       "      <td>0.000000</td>\n",
       "      <td>0.100000</td>\n",
       "      <td>...</td>\n",
       "      <td>Muito alto</td>\n",
       "      <td>Muito baixo</td>\n",
       "      <td>Muito baixo</td>\n",
       "      <td>Muito alto</td>\n",
       "      <td>Muito baixo</td>\n",
       "      <td>Muito baixo</td>\n",
       "      <td>Muito alto</td>\n",
       "      <td>Muito baixo</td>\n",
       "      <td>Muito baixo</td>\n",
       "      <td>Muito alto</td>\n",
       "    </tr>\n",
       "  </tbody>\n",
       "</table>\n",
       "<p>385 rows × 21 columns</p>\n",
       "</div>"
      ],
      "text/plain": [
       "      Id  Aplicação 1 - SLLC  Aplicação 1 - DRAM  Aplicação 1 - NET  \\\n",
       "0    217            0.015291            0.000045           0.037801   \n",
       "1    337            0.015291            0.000045           0.037801   \n",
       "2    208            0.006728            0.015766           0.000000   \n",
       "3    305            0.006728            0.015766           0.000000   \n",
       "4    349            0.015291            0.000045           0.037801   \n",
       "..   ...                 ...                 ...                ...   \n",
       "380   86            0.900000            0.000000           0.500000   \n",
       "381   31            1.000000            0.000000           0.100000   \n",
       "382  120            0.700000            0.100000           0.400000   \n",
       "383  111            1.000000            0.000000           0.300000   \n",
       "384    1            1.000000            0.000000           0.100000   \n",
       "\n",
       "     Aplicação 2 - SLLC  Aplicação 2 - DRAM  Aplicação 2 - NET  \\\n",
       "0              0.015291            0.000045           0.037801   \n",
       "1              0.015291            0.000045           0.037801   \n",
       "2              0.015291            0.000045           0.037801   \n",
       "3              0.015291            0.000045           0.037801   \n",
       "4              0.024465            0.000428           0.005842   \n",
       "..                  ...                 ...                ...   \n",
       "380            0.900000            0.000000           0.500000   \n",
       "381            1.000000            0.000000           0.300000   \n",
       "382            0.700000            0.100000           0.400000   \n",
       "383            1.000000            0.000000           0.300000   \n",
       "384            1.000000            0.000000           0.100000   \n",
       "\n",
       "     Aplicação 3 - SLLC  Aplicação 3 - DRAM  Aplicação 3 - NET  ...  \\\n",
       "0              0.015291            0.000045           0.037801  ...   \n",
       "1              0.024465            0.000428           0.005842  ...   \n",
       "2              0.015291            0.000045           0.037801  ...   \n",
       "3              0.024465            0.000428           0.005842  ...   \n",
       "4              0.024465            0.000428           0.005842  ...   \n",
       "..                  ...                 ...                ...  ...   \n",
       "380            0.900000            0.000000           0.500000  ...   \n",
       "381            1.000000            0.000000           0.300000  ...   \n",
       "382            0.700000            0.100000           0.400000  ...   \n",
       "383            1.000000            0.000000           0.300000  ...   \n",
       "384            1.000000            0.000000           0.100000  ...   \n",
       "\n",
       "     App1 - SLLC  App1 - DRAM   App1 - NET  App2 - SLLC  App2 - DRAM  \\\n",
       "0    Muito baixo  Muito baixo  Muito baixo  Muito baixo  Muito baixo   \n",
       "1    Muito baixo  Muito baixo  Muito baixo  Muito baixo  Muito baixo   \n",
       "2    Muito baixo  Muito baixo  Muito baixo  Muito baixo  Muito baixo   \n",
       "3    Muito baixo  Muito baixo  Muito baixo  Muito baixo  Muito baixo   \n",
       "4    Muito baixo  Muito baixo  Muito baixo  Muito baixo  Muito baixo   \n",
       "..           ...          ...          ...          ...          ...   \n",
       "380   Muito alto  Muito baixo        Medio   Muito alto  Muito baixo   \n",
       "381   Muito alto  Muito baixo  Muito baixo   Muito alto  Muito baixo   \n",
       "382         Alto  Muito baixo        Baixo         Alto  Muito baixo   \n",
       "383   Muito alto  Muito baixo        Baixo   Muito alto  Muito baixo   \n",
       "384   Muito alto  Muito baixo  Muito baixo   Muito alto  Muito baixo   \n",
       "\n",
       "      App2 - NET  App3 - SLLC  App3 - DRAM   App3 - NET Nivel de interferencia  \n",
       "0    Muito baixo  Muito baixo  Muito baixo  Muito baixo            Muito baixo  \n",
       "1    Muito baixo  Muito baixo  Muito baixo  Muito baixo            Muito baixo  \n",
       "2    Muito baixo  Muito baixo  Muito baixo  Muito baixo            Muito baixo  \n",
       "3    Muito baixo  Muito baixo  Muito baixo  Muito baixo            Muito baixo  \n",
       "4    Muito baixo  Muito baixo  Muito baixo  Muito baixo            Muito baixo  \n",
       "..           ...          ...          ...          ...                    ...  \n",
       "380        Medio   Muito alto  Muito baixo        Medio             Muito alto  \n",
       "381        Baixo   Muito alto  Muito baixo        Baixo             Muito alto  \n",
       "382        Baixo         Alto  Muito baixo        Baixo             Muito alto  \n",
       "383        Baixo   Muito alto  Muito baixo        Baixo             Muito alto  \n",
       "384  Muito baixo   Muito alto  Muito baixo  Muito baixo             Muito alto  \n",
       "\n",
       "[385 rows x 21 columns]"
      ]
     },
     "execution_count": 23,
     "metadata": {},
     "output_type": "execute_result"
    }
   ],
   "source": [
    "dt_3apli[['App1 - SLLC', \n",
    "          'App1 - DRAM', \n",
    "          'App1 - NET', \n",
    "          'App2 - SLLC', \n",
    "          'App2 - DRAM', \n",
    "          'App2 - NET',\n",
    "          'App3 - SLLC', \n",
    "          'App3 - DRAM', \n",
    "          'App3 - NET']] = dt_3apli.apply(lambda x: definir_categorias(x, ['Aplicação 1 - SLLC', \n",
    "                                                                           'Aplicação 1 - DRAM', \n",
    "                                                                           'Aplicação 1 - NET', \n",
    "                                                                           'Aplicação 2 - SLLC', \n",
    "                                                                           'Aplicação 2 - DRAM', \n",
    "                                                                           'Aplicação 2 - NET',\n",
    "                                                                           'Aplicação 3 - SLLC', \n",
    "                                                                           'Aplicação 3 - DRAM', \n",
    "                                                                           'Aplicação 3 - NET']), axis=1)\n",
    "dt_3apli[['Nivel de interferencia']] = dt_3apli.apply(lambda x: normalizar_definir_saida(x, 'SlowDown', dt_3apli['SlowDown'].min(), dt_3apli['SlowDown'].max()), axis=1)\n",
    "dt_3apli"
   ]
  },
  {
   "cell_type": "code",
   "execution_count": 24,
   "metadata": {},
   "outputs": [],
   "source": [
    "dt_2apli.to_csv('2apli.csv', index=False, columns=['App1 - SLLC', 'App1 - DRAM', 'App1 - NET', 'App2 - SLLC', 'App2 - DRAM', 'App2 - NET', 'Nivel de interferencia'])"
   ]
  },
  {
   "cell_type": "code",
   "execution_count": 25,
   "metadata": {},
   "outputs": [],
   "source": [
    "dt_3apli.to_csv('3apli.csv', index=False, columns=['App1 - SLLC', 'App1 - DRAM', 'App1 - NET', 'App2 - SLLC', 'App2 - DRAM', 'App2 - NET', 'App3 - SLLC', 'App3 - DRAM', 'App3 - NET', 'Nivel de interferencia'])"
   ]
  }
 ],
 "metadata": {
  "kernelspec": {
   "display_name": "Python 3",
   "language": "python",
   "name": "python3"
  },
  "language_info": {
   "codemirror_mode": {
    "name": "ipython",
    "version": 3
   },
   "file_extension": ".py",
   "mimetype": "text/x-python",
   "name": "python",
   "nbconvert_exporter": "python",
   "pygments_lexer": "ipython3",
   "version": "3.7.7"
  }
 },
 "nbformat": 4,
 "nbformat_minor": 4
}
